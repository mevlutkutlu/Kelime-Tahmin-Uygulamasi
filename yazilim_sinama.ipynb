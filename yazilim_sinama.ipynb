{
 "cells": [
  {
   "cell_type": "markdown",
   "id": "cbf489d1-1a3c-42e5-b0b0-7c5f78e5490f",
   "metadata": {},
   "source": [
    "Dosyaları 2 saniyelere ayırma"
   ]
  },
  {
   "cell_type": "code",
   "execution_count": 9,
   "id": "b681c3bf-9177-405b-a0db-b72db55c84e5",
   "metadata": {},
   "outputs": [],
   "source": [
    "from pydub import AudioSegment\n",
    "import os\n",
    "\n",
    "# Tam WAV dosyalarının bulunduğu dizin\n",
    "wav_dir = r\"C:\\Users\\Mevlit\\Desktop\\yazilim_sinama\\sesler-wav\"\n",
    "# Parçalı WAV dosyalarının kaydedileceği dizin\n",
    "parcali_wav_dir = r\"C:\\Users\\Mevlit\\Desktop\\yazilim_sinama\\parcali-sesler-wav\"\n",
    "\n",
    "# WAV dosyalarının listesi\n",
    "wav_files = os.listdir(wav_dir)\n",
    "\n",
    "# Her WAV dosyasını işleyin\n",
    "for wav_file in wav_files:\n",
    "    # WAV dosyasını yükle\n",
    "    audio = AudioSegment.from_wav(os.path.join(wav_dir, wav_file))\n",
    "    # 2 saniyelik parçalara böl\n",
    "    chunks = audio[::2000]\n",
    "    \n",
    "    # Parçaları kaydet\n",
    "    for i, chunk in enumerate(chunks):\n",
    "        chunk.export(os.path.join(parcali_wav_dir, f\"{wav_file[:-4]}_{i}.wav\"), format=\"wav\")"
   ]
  },
  {
   "cell_type": "markdown",
   "id": "bc7a2857-2ba5-4dd6-b5de-cb54de20ab88",
   "metadata": {},
   "source": [
    "MFCC özelliklerini çıkarmak\n",
    "\n",
    "Veri Ön İşleme ve Özellik Çıkarımı"
   ]
  },
  {
   "cell_type": "code",
   "execution_count": 10,
   "id": "cf4bd49b-5793-47f6-8573-dac468ad9648",
   "metadata": {},
   "outputs": [
    {
     "name": "stdout",
     "output_type": "stream",
     "text": [
      "MFCC özellikleri başarıyla oluşturuldu.\n",
      "(128, 201)\n"
     ]
    }
   ],
   "source": [
    "import os\n",
    "import librosa\n",
    "import numpy as np\n",
    "\n",
    "# Ses dosyalarının bulunduğu dizin\n",
    "ses_dizin = r'C:\\Users\\Mevlit\\Desktop\\yazilim_sinama\\parcali-sesler-wav'\n",
    "\n",
    "# MFCC özelliklerinin kaydedileceği dizin\n",
    "mfcc_dizin = r'C:\\Users\\Mevlit\\Desktop\\yazilim_sinama\\parcali-sesler-mfcc'\n",
    "\n",
    "# MFCC parametreleri\n",
    "n_mfcc = 128\n",
    "\n",
    "# Framelere ayırma parametreleri\n",
    "frame_length = 25  # milisaniye cinsinden\n",
    "frame_stride = 10   # milisaniye cinsinden\n",
    "\n",
    "# Dosyaları işleme\n",
    "for dosya_adı in os.listdir(ses_dizin):\n",
    "    if dosya_adı.endswith('.wav'):\n",
    "        dosya_yolu = os.path.join(ses_dizin, dosya_adı)\n",
    "        ses, sr = librosa.load(dosya_yolu, sr=None)\n",
    "        mfcc = librosa.feature.mfcc(y=ses, sr=sr, n_mfcc=n_mfcc, hop_length=int(frame_stride * sr / 1000),\n",
    "                                     n_fft=int(frame_length * sr / 1000))\n",
    "        mfcc_dosya_adı = dosya_adı.split('.')[0] + '.npy'\n",
    "        mfcc_dosya_yolu = os.path.join(mfcc_dizin, mfcc_dosya_adı)\n",
    "        np.save(mfcc_dosya_yolu, mfcc)\n",
    "\n",
    "print(\"MFCC özellikleri başarıyla oluşturuldu.\")\n",
    "print(mfcc.shape)"
   ]
  },
  {
   "cell_type": "markdown",
   "id": "b861fa90-03c1-49c4-8a65-e2e90aaa0d63",
   "metadata": {},
   "source": [
    "Modeli eğitmek"
   ]
  },
  {
   "cell_type": "code",
   "execution_count": 11,
   "id": "24005549-ea96-4ea2-98c3-ca67e6f88a9a",
   "metadata": {},
   "outputs": [
    {
     "name": "stdout",
     "output_type": "stream",
     "text": [
      "Model doğruluğu: 0.9753694581280788\n",
      "(809, 128)\n"
     ]
    }
   ],
   "source": [
    "from sklearn.neural_network import MLPClassifier\n",
    "from sklearn.model_selection import train_test_split\n",
    "from sklearn.preprocessing import LabelEncoder\n",
    "import numpy as np\n",
    "import os\n",
    "import joblib\n",
    "\n",
    "# MFCC özelliklerinin bulunduğu dizin\n",
    "mfcc_dizin = r'C:\\Users\\Mevlit\\Desktop\\yazilim_sinama\\parcali-sesler-mfcc'\n",
    "\n",
    "X = []\n",
    "y = []\n",
    "\n",
    "# MFCC dosyalarını yükleme\n",
    "for dosya_adı in os.listdir(mfcc_dizin):\n",
    "    if dosya_adı.endswith('.npy'):\n",
    "        dosya_yolu = os.path.join(mfcc_dizin, dosya_adı)\n",
    "        mfcc = np.load(dosya_yolu)\n",
    "        X.append(np.mean(mfcc, axis=1))  # Her dosya için ortalama MFCC vektörü\n",
    "        y.append(dosya_adı.split('_')[0])  # Dosya adından etiket çıkarma\n",
    "\n",
    "X = np.array(X)\n",
    "y = np.array(y)\n",
    "\n",
    "# Etiketleri sayısal değerlere dönüştürme\n",
    "le = LabelEncoder()\n",
    "y = le.fit_transform(y)\n",
    "\n",
    "# Veri kümesini eğitim ve test kümelerine ayırma\n",
    "X_egitim, X_test, y_egitim, y_test = train_test_split(X, y, test_size=0.2, random_state=42)\n",
    "\n",
    "# MLP modeli oluşturma ve eğitme\n",
    "model = MLPClassifier(hidden_layer_sizes=(100,), max_iter=500, random_state=42)\n",
    "model.fit(X_egitim, y_egitim)\n",
    "\n",
    "# Modelin doğruluğunu değerlendirme\n",
    "dogruluk = model.score(X_test, y_test)\n",
    "print(f\"Model doğruluğu: {dogruluk}\")\n",
    "\n",
    "print(X_egitim.shape)\n",
    "\n",
    "# Modeli diske kaydetme\n",
    "model_kayit_yolu = r'C:\\Users\\Mevlit\\Desktop\\yazilim_sinama\\model-yazilimsinama.pkl'\n",
    "joblib.dump(model, model_kayit_yolu)"
   ]
  },
  {
   "cell_type": "code",
   "execution_count": 13,
   "id": "2c1c785c-360e-4217-9284-289426362a34",
   "metadata": {},
   "outputs": [
    {
     "name": "stdout",
     "output_type": "stream",
     "text": [
      "Sınıflandırma Raporu:\n",
      "              precision    recall  f1-score   support\n",
      "\n",
      "           0       1.00      1.00      1.00        21\n",
      "           1       0.94      0.94      0.94        16\n",
      "           2       0.95      1.00      0.98        21\n",
      "           3       1.00      1.00      1.00        21\n",
      "           4       1.00      1.00      1.00        21\n",
      "           5       0.96      1.00      0.98        22\n",
      "           6       1.00      0.81      0.89        21\n",
      "           7       0.90      1.00      0.95        19\n",
      "           8       1.00      1.00      1.00        19\n",
      "           9       1.00      1.00      1.00        22\n",
      "\n",
      "    accuracy                           0.98       203\n",
      "   macro avg       0.98      0.97      0.97       203\n",
      "weighted avg       0.98      0.98      0.97       203\n",
      "\n",
      "Karışıklık Matrisi:\n",
      "[[21  0  0  0  0  0  0  0  0  0]\n",
      " [ 0 15  1  0  0  0  0  0  0  0]\n",
      " [ 0  0 21  0  0  0  0  0  0  0]\n",
      " [ 0  0  0 21  0  0  0  0  0  0]\n",
      " [ 0  0  0  0 21  0  0  0  0  0]\n",
      " [ 0  0  0  0  0 22  0  0  0  0]\n",
      " [ 0  1  0  0  0  1 17  2  0  0]\n",
      " [ 0  0  0  0  0  0  0 19  0  0]\n",
      " [ 0  0  0  0  0  0  0  0 19  0]\n",
      " [ 0  0  0  0  0  0  0  0  0 22]]\n"
     ]
    }
   ],
   "source": [
    "from sklearn.metrics import classification_report, confusion_matrix\n",
    "\n",
    "# Test veri seti üzerinde tahmin yapma\n",
    "tahminler = model.predict(X_test)\n",
    "\n",
    "# Sınıflandırma raporu ve karışıklık matrisini yazdırma\n",
    "print(\"Sınıflandırma Raporu:\")\n",
    "print(classification_report(y_test, tahminler))\n",
    "\n",
    "print(\"Karışıklık Matrisi:\")\n",
    "print(confusion_matrix(y_test, tahminler))"
   ]
  },
  {
   "cell_type": "markdown",
   "id": "19050442-e029-4fb4-9559-421eef2230c5",
   "metadata": {},
   "source": [
    "Uygulama Geliştirme - Dosya"
   ]
  },
  {
   "cell_type": "code",
   "execution_count": 17,
   "id": "bb7127af-8397-4728-bd69-ab7201e2aeb7",
   "metadata": {},
   "outputs": [
    {
     "name": "stdout",
     "output_type": "stream",
     "text": [
      "Tahmin edilen kişi:  [7]\n"
     ]
    }
   ],
   "source": [
    "import numpy as np\n",
    "import os\n",
    "import joblib\n",
    "\n",
    "# Eğitilmiş modeli yükleme\n",
    "model_kayit_yolu = r'C:\\Users\\Mevlit\\Desktop\\yazilim_sinama\\model-yazilimsinama.pkl'\n",
    "model = joblib.load(model_kayit_yolu)\n",
    "\n",
    "# Test edilecek ses dosyasının MFCC özelliklerini yükleme\n",
    "test_ses_dosyasi = r'C:\\Users\\Mevlit\\Desktop\\yazilim_sinama\\parcali-sesler-mfcc\\ozcan_61.npy'\n",
    "mfcc = np.load(test_ses_dosyasi)\n",
    "\n",
    "# Model üzerinden tahmin yapma\n",
    "tahmin = model.predict(np.mean(mfcc, axis=1).reshape(1, -1))\n",
    "\n",
    "# Tahmini sonuç\n",
    "print(\"Tahmin edilen kişi: \", tahmin)"
   ]
  },
  {
   "cell_type": "markdown",
   "id": "f700e6d3-4bb0-45ca-ab67-f7bf309b2119",
   "metadata": {},
   "source": [
    "Uygulama Geliştirme - Mikrofon"
   ]
  },
  {
   "cell_type": "markdown",
   "id": "504abf84-89d3-4067-b6ea-94d04b002fec",
   "metadata": {},
   "source": [
    "Canlı ses kaydı güncel"
   ]
  },
  {
   "cell_type": "code",
   "execution_count": 11,
   "id": "cb3b0e05-42ee-4b44-999e-cfc68d99c58d",
   "metadata": {},
   "outputs": [
    {
     "name": "stdout",
     "output_type": "stream",
     "text": [
      "Gerçek zamanlı ses kaydı başlıyor...\n",
      "Parça kaydedildi: C:\\Users\\Mevlit\\Desktop\\yazilim_sinama\\test\\parca_1.wav\n",
      "Tahmin edilen kişi:  ozcan\n",
      "Parça kaydedildi: C:\\Users\\Mevlit\\Desktop\\yazilim_sinama\\test\\parca_2.wav\n",
      "Tahmin edilen kişi:  hasan\n",
      "Parça kaydedildi: C:\\Users\\Mevlit\\Desktop\\yazilim_sinama\\test\\parca_3.wav\n",
      "Tahmin edilen kişi:  ozcan\n",
      "Parça kaydedildi: C:\\Users\\Mevlit\\Desktop\\yazilim_sinama\\test\\parca_4.wav\n",
      "Tahmin edilen kişi:  ozcan\n",
      "Parça kaydedildi: C:\\Users\\Mevlit\\Desktop\\yazilim_sinama\\test\\parca_5.wav\n",
      "Tahmin edilen kişi:  ozcan\n",
      "Parça kaydedildi: C:\\Users\\Mevlit\\Desktop\\yazilim_sinama\\test\\parca_6.wav\n",
      "Tahmin edilen kişi:  ozcan\n",
      "Parça kaydedildi: C:\\Users\\Mevlit\\Desktop\\yazilim_sinama\\test\\parca_7.wav\n",
      "Tahmin edilen kişi:  ozcan\n",
      "Parça kaydedildi: C:\\Users\\Mevlit\\Desktop\\yazilim_sinama\\test\\parca_8.wav\n",
      "Tahmin edilen kişi:  ozcan\n",
      "Parça kaydedildi: C:\\Users\\Mevlit\\Desktop\\yazilim_sinama\\test\\parca_9.wav\n",
      "Tahmin edilen kişi:  ozcan\n",
      "Parça kaydedildi: C:\\Users\\Mevlit\\Desktop\\yazilim_sinama\\test\\parca_10.wav\n",
      "Tahmin edilen kişi:  ozcan\n",
      "Parça kaydedildi: C:\\Users\\Mevlit\\Desktop\\yazilim_sinama\\test\\parca_11.wav\n",
      "Tahmin edilen kişi:  ozcan\n",
      "Parça kaydedildi: C:\\Users\\Mevlit\\Desktop\\yazilim_sinama\\test\\parca_12.wav\n",
      "Tahmin edilen kişi:  ozcan\n",
      "Tüm kayıt işlemi tamamlandı ve tüm ses kaydedildi!\n"
     ]
    }
   ],
   "source": [
    "import numpy as np\n",
    "import sounddevice as sd\n",
    "import joblib\n",
    "import librosa\n",
    "import soundfile as sf\n",
    "import os\n",
    "\n",
    "# Eğitilmiş modeli yükleme\n",
    "model_kayit_yolu = r'C:\\Users\\Mevlit\\Desktop\\yazilim_sinama\\model-yazilimsinama.pkl'\n",
    "model = joblib.load(model_kayit_yolu)\n",
    "\n",
    "# WAV dosyalarının bulunduğu klasör\n",
    "wav_dosyasi_klasoru = r'C:\\Users\\Mevlit\\Desktop\\yazilim_sinama\\sesler-wav'\n",
    "\n",
    "# .wav uzantılı dosyaların isimlerini al\n",
    "sinif_isimleri = [\n",
    "    os.path.splitext(dosya)[0] for dosya in os.listdir(wav_dosyasi_klasoru) if dosya.endswith(\".wav\")\n",
    "]\n",
    "\n",
    "# Mikrofondan ses almak için gerekli parametreler\n",
    "saniye_basina_ornek = 44100  # Örnekleme hızı\n",
    "kanal_sayisi = 1  # Tek kanallı ses\n",
    "parca_suresi = 5  # Parça başına süre (saniye)\n",
    "parca_ornek = saniye_basina_ornek * parca_suresi  # 5 saniyelik örnek boyutu\n",
    "\n",
    "# \"yazilim_sinama\" dizini içinde \"test\" klasörü oluştur\n",
    "kayit_dizini = r\"C:\\Users\\Mevlit\\Desktop\\yazilim_sinama\\test\"  # \"test\" klasörü yolu\n",
    "os.makedirs(kayit_dizini, exist_ok=True)  # Klasörü oluştur (zaten varsa hata vermez)\n",
    "\n",
    "# Tüm ses kaydı için dosya yolu\n",
    "tum_kayit_yolu = os.path.join(kayit_dizini, \"tum_kayit.wav\")\n",
    "\n",
    "print(\"Gerçek zamanlı ses kaydı başlıyor...\")\n",
    "parca_sayaci = 0\n",
    "\n",
    "# Tüm kaydı tek bir dosyada saklamak için SoundFile dosyası aç\n",
    "with sf.SoundFile(tum_kayit_yolu, mode='w', samplerate=saniye_basina_ornek, channels=kanal_sayisi) as tum_dosya:\n",
    "    with sd.InputStream(samplerate=saniye_basina_ornek, channels=kanal_sayisi, dtype='float32') as stream:\n",
    "        for _ in range(0, 60, parca_suresi):\n",
    "            data = stream.read(parca_ornek)[0]  # 5 saniyelik veriyi oku\n",
    "            tum_dosya.write(data)  # Tüm kaydı saklamak için dosyaya yaz\n",
    "            parca_sayaci += 1\n",
    "\n",
    "            # Her parçayı ayrı dosya olarak kaydet\n",
    "            dosya_adi = os.path.join(kayit_dizini, f\"parca_{parca_sayaci}.wav\")\n",
    "            sf.write(dosya_adi, data, samplerate=saniye_basina_ornek)\n",
    "            print(f\"Parça kaydedildi: {dosya_adi}\")\n",
    "\n",
    "            # Parçayı işlemek için tahmin işlemi\n",
    "            y, sr = librosa.load(dosya_adi, sr=saniye_basina_ornek)\n",
    "            mfcc = librosa.feature.mfcc(y=y, sr=sr, n_mfcc=128)\n",
    "            mfcc = np.mean(mfcc.T, axis=0)  # Ortalama MFCC vektörü\n",
    "            \n",
    "            # Model üzerinden tahmin yapma\n",
    "            tahmin_indeksi = model.predict(mfcc.reshape(1, -1))[0]\n",
    "            tahmin_isim = sinif_isimleri[tahmin_indeksi]\n",
    "            \n",
    "            # Tahmini sonuç\n",
    "            print(\"Tahmin edilen kişi: \", tahmin_isim)\n",
    "\n",
    "print(\"Tüm kayıt işlemi tamamlandı ve tüm ses kaydedildi!\")\n"
   ]
  },
  {
   "cell_type": "markdown",
   "id": "1e7d8a97-6228-46af-bb3f-0284fa5542a9",
   "metadata": {},
   "source": [
    "Transkript çıkarma"
   ]
  },
  {
   "cell_type": "code",
   "execution_count": 12,
   "id": "2d39616d-1ad9-4084-bca3-95e1bd87fa93",
   "metadata": {},
   "outputs": [
    {
     "name": "stdout",
     "output_type": "stream",
     "text": [
      "C:\\Users\\Mevlit\\Desktop\\yazilim_sinama\\test\\tum_kayit.wav yüklendi ve Google Cloud Storage'da tum_kayit.wav olarak saklandı.\n",
      "Ses dosyası işleniyor, lütfen bekleyin...\n",
      "Transkript:\n",
      "Merhaba arkadaşlar ben Murat Bugün sizlerle birlikte yepyeni bir video sesli yapıyoruz Özcan beni tanıyorsun Neyse bugün sana bir şeyler anlatayım Bugün ben Hasan değilim Hasan daha Samsun'da bugün rüyamda Hiçbir şey görmedim arkadaşlar Ben bugün rüyamda bulamadım Onun da şey yok şu an kafam ağrıyor yine okula Sen ne yapacağım bilmiyorum ne yapacağım bilmiyorum Kaldım öyle beni doğru tahmin ediyorsun geleceğim ama Yahu acaba bu sikeceğim 2 cm nasıl tarz Büyükçekmece konu merak ettiğim için böyle şeyler dedim arkadaşlar normale terbiyeli bir çocuğum onun dışından başka diyecek bir şeyim yok gibi aklıma bir şey gelmiyor neyse ya güne çok bol hakkında konuşalım Şenol Güneş eklerine arkadaşlar\n",
      "\n",
      "Transkript kaydedildi: C:\\Users\\Mevlit\\Desktop\\yazilim_sinama\\test\\transkript.txt\n"
     ]
    }
   ],
   "source": [
    "import os\n",
    "from google.cloud import speech\n",
    "from google.cloud import storage\n",
    "\n",
    "# Google Cloud kimlik dosyasını ayarlayın\n",
    "os.environ[\"GOOGLE_APPLICATION_CREDENTIALS\"] = r\"C:\\Users\\Mevlit\\Desktop\\yazilim_sinama\\yazilimsinama-0648-ea2747e0ecd7.json\"\n",
    "\n",
    "def ses_dosyasini_yukle(bucket_name, source_file_name, destination_blob_name):\n",
    "    \"\"\"Ses dosyasını Google Cloud Storage'a yükler.\"\"\"\n",
    "    storage_client = storage.Client()\n",
    "    bucket = storage_client.bucket(bucket_name)\n",
    "    blob = bucket.blob(destination_blob_name)\n",
    "\n",
    "    blob.upload_from_filename(source_file_name)\n",
    "    print(f\"{source_file_name} yüklendi ve Google Cloud Storage'da {destination_blob_name} olarak saklandı.\")\n",
    "    return f\"gs://{bucket_name}/{destination_blob_name}\"\n",
    "\n",
    "def transkript_cikart_uzun_ses(audio_uri):\n",
    "    \"\"\"Google Speech-to-Text ile uzun ses dosyasının transkriptini çıkarır.\"\"\"\n",
    "    client = speech.SpeechClient()\n",
    "\n",
    "    audio = speech.RecognitionAudio(uri=audio_uri)\n",
    "    config = speech.RecognitionConfig(\n",
    "        encoding=speech.RecognitionConfig.AudioEncoding.LINEAR16,\n",
    "        sample_rate_hertz=44100,\n",
    "        language_code=\"tr-TR\"\n",
    "    )\n",
    "\n",
    "    # Uzun ses dosyasını işleme\n",
    "    operation = client.long_running_recognize(config=config, audio=audio)\n",
    "    print(\"Ses dosyası işleniyor, lütfen bekleyin...\")\n",
    "    response = operation.result(timeout=600)\n",
    "\n",
    "    # Transkripti birleştirme\n",
    "    transkript = \"\"\n",
    "    for result in response.results:\n",
    "        transkript += result.alternatives[0].transcript + \"\\n\"\n",
    "    return transkript\n",
    "\n",
    "# Ses dosyasının yolu ve Google Cloud Storage ayarları\n",
    "bucket_name = \"ses-kayitlarim\"\n",
    "source_file_name = r\"C:\\Users\\Mevlit\\Desktop\\yazilim_sinama\\test\\tum_kayit.wav\"\n",
    "destination_blob_name = \"tum_kayit.wav\"\n",
    "\n",
    "# Ses dosyasını yükleyip URI al\n",
    "audio_uri = ses_dosyasini_yukle(bucket_name, source_file_name, destination_blob_name)\n",
    "\n",
    "# Transkript oluştur ve ekrana yazdır\n",
    "transkript = transkript_cikart_uzun_ses(audio_uri)\n",
    "print(\"Transkript:\")\n",
    "print(transkript)\n",
    "\n",
    "# Transkripti bir dosyaya kaydet\n",
    "transkript_dosyasi = r\"C:\\Users\\Mevlit\\Desktop\\yazilim_sinama\\test\\transkript.txt\"\n",
    "with open(transkript_dosyasi, \"w\", encoding=\"utf-8\") as f:\n",
    "    f.write(transkript)\n",
    "print(f\"Transkript kaydedildi: {transkript_dosyasi}\")\n"
   ]
  },
  {
   "cell_type": "markdown",
   "id": "4e01ffa9-eaf1-4957-ae44-6c7a8c2e0918",
   "metadata": {},
   "source": [
    "Konu analizi"
   ]
  },
  {
   "cell_type": "code",
   "execution_count": 16,
   "id": "17490333-18e9-4994-be83-6f5763b47af6",
   "metadata": {},
   "outputs": [
    {
     "name": "stdout",
     "output_type": "stream",
     "text": [
      "Çevrilmiş Metin: Hello friends, today I will talk about artificial intelligence technologies.\n",
      "\n",
      "As you know, artificial intelligence has become very popular in recent years and has begun to be used in many sectors.\n",
      "\n",
      "For example, in the healthcare sector, it helps doctors in the diagnosis process.\n",
      "\n",
      "In education, it provides personalized learning experiences and enables students to work more efficiently.\n",
      "Konu Analizi Sonuçları:\n",
      "Ad: friends, Tür: PERSON, Önem Skoru: 0.44\n",
      "Ad: artificial intelligence technologies, Tür: OTHER, Önem Skoru: 0.18\n",
      "Ad: sectors, Tür: OTHER, Önem Skoru: 0.07\n",
      "Ad: artificial intelligence, Tür: OTHER, Önem Skoru: 0.07\n",
      "Ad: healthcare sector, Tür: OTHER, Önem Skoru: 0.06\n",
      "Ad: example, Tür: OTHER, Önem Skoru: 0.05\n",
      "Ad: education, Tür: OTHER, Önem Skoru: 0.04\n",
      "Ad: learning experiences, Tür: OTHER, Önem Skoru: 0.03\n",
      "Ad: students, Tür: PERSON, Önem Skoru: 0.02\n",
      "Ad: doctors, Tür: PERSON, Önem Skoru: 0.02\n",
      "Ad: diagnosis process, Tür: OTHER, Önem Skoru: 0.02\n"
     ]
    }
   ],
   "source": [
    "from deep_translator import GoogleTranslator\n",
    "from google.cloud import language_v1\n",
    "\n",
    "def google_konu_analizi():\n",
    "    # Transkripti dosyadan oku\n",
    "    transkript_dosyasi = r\"C:\\Users\\Mevlit\\Desktop\\yazilim_sinama\\test\\transkript.txt\"\n",
    "    with open(transkript_dosyasi, \"r\", encoding=\"utf-8\") as f:\n",
    "        transkript = f.read()\n",
    "\n",
    "    # Deep Translator ile metni çevir\n",
    "    translated = GoogleTranslator(source='tr', target='en').translate(transkript)\n",
    "    print(f\"Çevrilmiş Metin: {translated}\")\n",
    "    \n",
    "    # Google Cloud Natural Language API ile analiz\n",
    "    client = language_v1.LanguageServiceClient()\n",
    "    document = language_v1.Document(content=translated, type_=language_v1.Document.Type.PLAIN_TEXT)\n",
    "    response = client.analyze_entities(document=document)\n",
    "\n",
    "    # Konu analizi sonuçları\n",
    "    print(\"Konu Analizi Sonuçları:\")\n",
    "    for entity in response.entities:\n",
    "        print(f\"Ad: {entity.name}, Tür: {entity.type_.name}, Önem Skoru: {entity.salience:.2f}\")\n",
    "\n",
    "# Analiz yap\n",
    "google_konu_analizi()\n"
   ]
  },
  {
   "cell_type": "markdown",
   "id": "0fdf365a-ea45-4bf7-b82a-ccb5f8a316e6",
   "metadata": {},
   "source": [
    "Yeni kişi ekleme"
   ]
  },
  {
   "cell_type": "code",
   "execution_count": 26,
   "id": "5ee240b4-9370-4a6f-a439-27b3e8cfc482",
   "metadata": {},
   "outputs": [
    {
     "name": "stdout",
     "output_type": "stream",
     "text": [
      "Konuşmaya başlayın\n",
      "Sesiniz başarıyla kaydedildi.\n",
      "bölme işlemi tamamlandı\n",
      "MFCC özellikleri başarıyla oluşturuldu.\n"
     ]
    }
   ],
   "source": [
    "import numpy as np\n",
    "import sounddevice as sd\n",
    "import joblib\n",
    "import librosa\n",
    "import soundfile as sf\n",
    "import os\n",
    "import tkinter as tk\n",
    "from tkinter import simpledialog\n",
    "\n",
    "# Mikrofondan ses almak için gerekli parametreler\n",
    "saniye_basina_ornek = 44100  # Örnekleme hızı (örneğin, 44100 Hz)\n",
    "saniye = 90  # 90 saniyelik ses al\n",
    "kanal_sayisi = 1  # Tek kanallı ses\n",
    "\n",
    "kisi_adi = simpledialog.askstring(\"Yeni Kişi\", \"Yeni kişinin adını girin:\")#Kişinin adını alma\n",
    "\n",
    "print(\"Konuşmaya başlayın\")\n",
    "ses = sd.rec(int(saniye_basina_ornek * saniye), samplerate=saniye_basina_ornek, channels=kanal_sayisi, dtype='float32')\n",
    "sd.wait()\n",
    "\n",
    "\n",
    "# Ses dosyasını WAV olarak kaydetme\n",
    "kayit_yolu = fr'C:\\Users\\Mevlit\\Desktop\\yazilim_sinama\\sesler-wav\\{kisi_adi}.wav'\n",
    "\n",
    "sf.write(kayit_yolu, np.squeeze(ses), saniye_basina_ornek)\n",
    "print(\"Sesiniz başarıyla kaydedildi.\")\n",
    "\n",
    "#Kaydedilen WAV dosyasını 2 saniyelik parçalara bölmek ve kaydetmek\n",
    "wav_file = fr'C:\\Users\\Mevlit\\Desktop\\yazilim_sinama\\sesler-wav\\{kisi_adi}.wav'\n",
    "wav_dir = r'C:\\Users\\Mevlit\\Desktop\\yazilim_sinama\\parcali-sesler-wav' #Parcalanmıs dosyaların kaydedileceği dizin \n",
    "audio = AudioSegment.from_wav(wav_file) # WAV dosyasını yükle\n",
    "chunks = audio[::2000]\n",
    "for i, chunk in enumerate(chunks):\n",
    "        chunk.export(os.path.join(wav_dir, f\"{kisi_adi}_{i}.wav\"), format=\"wav\")\n",
    "print(\"bölme işlemi tamamlandı\")\n",
    "# Kaydedilen kişinin MFCC özelliklerini çıkarmak\n",
    "\n",
    "# Ses dosyalarının bulunduğu dizin\n",
    "ses_dizin = r'C:\\Users\\Mevlit\\Desktop\\yazilim_sinama\\parcali-sesler-wav'\n",
    "\n",
    "# MFCC özelliklerinin kaydedileceği dizin\n",
    "mfcc_dizin = r'C:\\Users\\Mevlit\\Desktop\\yazilim_sinama\\parcali-sesler-mfcc'\n",
    "\n",
    "# MFCC parametreleri\n",
    "n_mfcc = 128\n",
    "\n",
    "# Framelere ayırma parametreleri\n",
    "frame_length = 25  # milisaniye cinsinden\n",
    "frame_stride = 10   # milisaniye cinsinden\n",
    "\n",
    "for dosya_adı in os.listdir(ses_dizin):\n",
    "    if dosya_adı.startswith(kisi_adi):\n",
    "        dosya_yolu = os.path.join(ses_dizin, dosya_adı)\n",
    "        ses, sr = librosa.load(dosya_yolu, sr=None)\n",
    "        mfcc = librosa.feature.mfcc(y=ses, sr=sr, n_mfcc=n_mfcc, hop_length=int(frame_stride * sr / 1000),\n",
    "                                     n_fft=int(frame_length * sr / 1000))\n",
    "        mfcc_dosya_adı = dosya_adı.split('.')[0] + '.npy'\n",
    "        mfcc_dosya_yolu = os.path.join(mfcc_dizin, mfcc_dosya_adı)\n",
    "        np.save(mfcc_dosya_yolu, mfcc)\n",
    "\n",
    "print(\"MFCC özellikleri başarıyla oluşturuldu.\")\n",
    "\n",
    "#Modeli güncelleme buraya modeli eğitme ve kaydetme metodunu çağır"
   ]
  },
  {
   "cell_type": "code",
   "execution_count": null,
   "id": "a8d1f0dd-1c6f-4aa2-8f88-b0f7bf326957",
   "metadata": {},
   "outputs": [],
   "source": []
  }
 ],
 "metadata": {
  "kernelspec": {
   "display_name": "Python 3",
   "language": "python",
   "name": "myenv"
  },
  "language_info": {
   "codemirror_mode": {
    "name": "ipython",
    "version": 3
   },
   "file_extension": ".py",
   "mimetype": "text/x-python",
   "name": "python",
   "nbconvert_exporter": "python",
   "pygments_lexer": "ipython3",
   "version": "3.12.7"
  }
 },
 "nbformat": 4,
 "nbformat_minor": 5
}
